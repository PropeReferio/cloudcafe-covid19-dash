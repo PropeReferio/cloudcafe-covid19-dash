{
 "cells": [
  {
   "cell_type": "code",
   "execution_count": 36,
   "metadata": {},
   "outputs": [
    {
     "name": "stdout",
     "output_type": "stream",
     "text": [
      "Afghanistan\n",
      "Province/State\n",
      "Country/Region\n"
     ]
    },
    {
     "ename": "AttributeError",
     "evalue": "'float' object has no attribute 'empty'",
     "output_type": "error",
     "traceback": [
      "\u001b[0;31m---------------------------------------------------------------------------\u001b[0m",
      "\u001b[0;31mAttributeError\u001b[0m                            Traceback (most recent call last)",
      "\u001b[0;32m<ipython-input-36-204cd8ab0567>\u001b[0m in \u001b[0;36m<module>\u001b[0;34m\u001b[0m\n\u001b[1;32m     31\u001b[0m     \u001b[0mprint\u001b[0m\u001b[0;34m(\u001b[0m\u001b[0mplace\u001b[0m\u001b[0;34m)\u001b[0m\u001b[0;34m\u001b[0m\u001b[0;34m\u001b[0m\u001b[0m\n\u001b[1;32m     32\u001b[0m \u001b[0;34m\u001b[0m\u001b[0m\n\u001b[0;32m---> 33\u001b[0;31m \u001b[0mprint\u001b[0m\u001b[0;34m(\u001b[0m\u001b[0mdeaths\u001b[0m\u001b[0;34m[\u001b[0m\u001b[0;34m'Province/State'\u001b[0m\u001b[0;34m]\u001b[0m\u001b[0;34m[\u001b[0m\u001b[0;36m0\u001b[0m\u001b[0;34m]\u001b[0m\u001b[0;34m.\u001b[0m\u001b[0mempty\u001b[0m\u001b[0;34m)\u001b[0m\u001b[0;34m\u001b[0m\u001b[0;34m\u001b[0m\u001b[0m\n\u001b[0m",
      "\u001b[0;31mAttributeError\u001b[0m: 'float' object has no attribute 'empty'"
     ]
    }
   ],
   "source": [
    "from pandas import DataFrame as df\n",
    "import pandas as pd\n",
    "import requests\n",
    "\n",
    "confirmed_url = 'https://raw.githubusercontent.com/CSSEGISandData/COVID-19/master/csse_covid_19_data/csse_covid_19_time_series/time_series_covid19_confirmed_global.csv'\n",
    "deaths_url = 'https://raw.githubusercontent.com/CSSEGISandData/COVID-19/master/csse_covid_19_data/csse_covid_19_time_series/time_series_covid19_deaths_global.csv'\n",
    "todays_date = '3/26/20' #Fix this using datetime, and also get yesterday and a week ago\n",
    "\n",
    "confirmed = pd.read_csv(confirmed_url)\n",
    "deaths = pd.read_csv(deaths_url)\n",
    "\n",
    "death_size = []\n",
    "confirmed_size = [] #Maybe remake these 6 lines into list comprehensions\n",
    "for num_cases in confirmed[todays_date]:\n",
    "    confirmed_size.append(num_cases/500)  #These sizes are for map marker size\n",
    "for num_deaths in deaths[todays_date]:\n",
    "    death_size.append(num_deaths/100) #VERY important that this be made to\n",
    "    #scale, or it be noted that it is NOT to scale for the sake of visibility\n",
    "\n",
    "confirmed['confirmed_size'] = df(confirmed_size)\n",
    "deaths['death_size'] = df(death_size)\n",
    "\n",
    "\n",
    "deaths[['Province/State','Country/Region']]\n",
    "if type(deaths['Province/State'][0]) is float:\n",
    "    print(deaths['Country/Region'][0])\n",
    "    \n",
    "for place in deaths[['Province/State','Country/Region']]:\n",
    "    if place is float:\n",
    "        deaths_names.append()\n",
    "    print(place)"
   ]
  }
 ],
 "metadata": {
  "kernelspec": {
   "display_name": "Python 3.7.4 64-bit ('anaconda3': virtualenv)",
   "language": "python",
   "name": "python37464bitanaconda3virtualenv23c96525a7b647998850cbb8a9f0c906"
  },
  "language_info": {
   "codemirror_mode": {
    "name": "ipython",
    "version": 3
   },
   "file_extension": ".py",
   "mimetype": "text/x-python",
   "name": "python",
   "nbconvert_exporter": "python",
   "pygments_lexer": "ipython3",
   "version": "3.7.4"
  }
 },
 "nbformat": 4,
 "nbformat_minor": 2
}
